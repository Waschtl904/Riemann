{
 "cells": [
  {
   "cell_type": "code",
   "execution_count": null,
   "id": "7493e7c6",
   "metadata": {
    "vscode": {
     "languageId": "plaintext"
    }
   },
   "outputs": [],
   "source": [
    "import mpmath as mp\n",
    "from riemann.zeta import zeta\n",
    "from riemann.utils import plot_zeros\n",
    "\n",
    "mp.mp.dps = 50\n"
   ]
  },
  {
   "cell_type": "code",
   "execution_count": null,
   "id": "82644124",
   "metadata": {
    "vscode": {
     "languageId": "plaintext"
    }
   },
   "outputs": [],
   "source": [
    "# Beispiel: ζ(0.5 + 14.1347j)\n",
    "s = 0.5 + 14.134725141734693j\n",
    "print(f\"ζ({s}) =\", zeta(s))\n"
   ]
  },
  {
   "cell_type": "code",
   "execution_count": null,
   "id": "41fc59cb",
   "metadata": {
    "vscode": {
     "languageId": "plaintext"
    }
   },
   "outputs": [],
   "source": [
    "# Berechne erste 5 nicht-triviale Nullstellen\n",
    "zeros = [mp.zetazero(n) for n in range(1,6)]\n",
    "plot_zeros(zeros, title=\"Erste 5 Nullstellen der Riemannschen ζ-Funktion\")\n"
   ]
  }
 ],
 "metadata": {
  "language_info": {
   "name": "python"
  }
 },
 "nbformat": 4,
 "nbformat_minor": 5
}
