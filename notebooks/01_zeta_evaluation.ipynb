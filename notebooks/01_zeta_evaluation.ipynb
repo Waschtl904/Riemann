{
 "cells": [
  {
   "cell_type": "code",
   "execution_count": 3,
   "id": "7493e7c6",
   "metadata": {},
   "outputs": [],
   "source": [
    "import mpmath as mp\n",
    "from zeta import zeta\n",
    "from utils import plot_euler_vs_series\n",
    "\n",
    "mp.mp.dps = 50"
   ]
  },
  {
   "cell_type": "code",
   "execution_count": 5,
   "id": "82644124",
   "metadata": {},
   "outputs": [
    {
     "name": "stdout",
     "output_type": "stream",
     "text": [
      "ζ((0.5+14.134725141734693j)) = (1.1667488738932820514799652731795891013734806854846e-16 - 7.3288818837284404118111080606221770801790161188265e-16j)\n"
     ]
    }
   ],
   "source": [
    "# Beispiel: ζ(0.5 + 14.1347j)\n",
    "s = 0.5 + 14.134725141734693j\n",
    "print(f\"ζ({s}) =\", zeta(s))\n"
   ]
  },
  {
   "cell_type": "code",
   "execution_count": null,
   "id": "41fc59cb",
   "metadata": {},
   "outputs": [],
   "source": []
  },
  {
   "cell_type": "code",
   "execution_count": null,
   "id": "0417c0c7",
   "metadata": {},
   "outputs": [],
   "source": []
  }
 ],
 "metadata": {
  "kernelspec": {
   "display_name": ".venv",
   "language": "python",
   "name": "python3"
  },
  "language_info": {
   "codemirror_mode": {
    "name": "ipython",
    "version": 3
   },
   "file_extension": ".py",
   "mimetype": "text/x-python",
   "name": "python",
   "nbconvert_exporter": "python",
   "pygments_lexer": "ipython3",
   "version": "3.13.7"
  }
 },
 "nbformat": 4,
 "nbformat_minor": 5
}
